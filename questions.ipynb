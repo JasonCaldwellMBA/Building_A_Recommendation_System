{
 "cells": [
  {
   "cell_type": "markdown",
   "metadata": {},
   "source": [
    "# Exercises for \"Hands-on with Pydata: How to Build a Minimal Recommendation Engine\""
   ]
  },
  {
   "cell_type": "markdown",
   "metadata": {},
   "source": [
    "# Systems check: imports and files"
   ]
  },
  {
   "cell_type": "code",
   "execution_count": 1,
   "metadata": {
    "collapsed": false
   },
   "outputs": [],
   "source": [
    "import numpy as np\n",
    "import pandas as pd"
   ]
  },
  {
   "cell_type": "markdown",
   "metadata": {},
   "source": [
    "# Pandas questions: Series and DataFrames\n",
    "## 1. Adding a column in a DataFrame"
   ]
  },
  {
   "cell_type": "code",
   "execution_count": 2,
   "metadata": {
    "collapsed": false
   },
   "outputs": [
    {
     "data": {
      "text/plain": "   col1  col2\n0     1     5\n1     2     6\n2     3     7\n3     4     8",
      "text/html": "<div>\n<style scoped>\n    .dataframe tbody tr th:only-of-type {\n        vertical-align: middle;\n    }\n\n    .dataframe tbody tr th {\n        vertical-align: top;\n    }\n\n    .dataframe thead th {\n        text-align: right;\n    }\n</style>\n<table border=\"1\" class=\"dataframe\">\n  <thead>\n    <tr style=\"text-align: right;\">\n      <th></th>\n      <th>col1</th>\n      <th>col2</th>\n    </tr>\n  </thead>\n  <tbody>\n    <tr>\n      <th>0</th>\n      <td>1</td>\n      <td>5</td>\n    </tr>\n    <tr>\n      <th>1</th>\n      <td>2</td>\n      <td>6</td>\n    </tr>\n    <tr>\n      <th>2</th>\n      <td>3</td>\n      <td>7</td>\n    </tr>\n    <tr>\n      <th>3</th>\n      <td>4</td>\n      <td>8</td>\n    </tr>\n  </tbody>\n</table>\n</div>"
     },
     "execution_count": 2,
     "metadata": {},
     "output_type": "execute_result"
    }
   ],
   "source": [
    "# given the following DataFrame, add a new column to it\n",
    "df = pd.DataFrame({'col1': [1,2,3,4]})\n",
    "df['col2'] = [5,6,7,8]\n",
    "df"
   ]
  },
  {
   "cell_type": "markdown",
   "metadata": {},
   "source": [
    "## 2. Deleting a row in a DataFrame"
   ]
  },
  {
   "cell_type": "code",
   "execution_count": 3,
   "metadata": {
    "collapsed": false
   },
   "outputs": [
    {
     "data": {
      "text/plain": "   col1\na     1\nb     2\nc     3",
      "text/html": "<div>\n<style scoped>\n    .dataframe tbody tr th:only-of-type {\n        vertical-align: middle;\n    }\n\n    .dataframe tbody tr th {\n        vertical-align: top;\n    }\n\n    .dataframe thead th {\n        text-align: right;\n    }\n</style>\n<table border=\"1\" class=\"dataframe\">\n  <thead>\n    <tr style=\"text-align: right;\">\n      <th></th>\n      <th>col1</th>\n    </tr>\n  </thead>\n  <tbody>\n    <tr>\n      <th>a</th>\n      <td>1</td>\n    </tr>\n    <tr>\n      <th>b</th>\n      <td>2</td>\n    </tr>\n    <tr>\n      <th>c</th>\n      <td>3</td>\n    </tr>\n  </tbody>\n</table>\n</div>"
     },
     "execution_count": 3,
     "metadata": {},
     "output_type": "execute_result"
    }
   ],
   "source": [
    "# given the following DataFrame, delete row 'd' from it\n",
    "df = pd.DataFrame({'col1': [1,2,3,4]}, index = ['a','b','c','d'])\n",
    "df.drop('d', inplace=True)\n",
    "df"
   ]
  },
  {
   "cell_type": "markdown",
   "metadata": {},
   "source": [
    "## 3. Creating a DataFrame from a few Series"
   ]
  },
  {
   "cell_type": "code",
   "execution_count": 4,
   "metadata": {
    "collapsed": false
   },
   "outputs": [
    {
     "data": {
      "text/plain": "      ser_1     ser_2     ser_3\n0 -0.673460 -0.375016  0.667032\n1  0.902934 -0.757647  1.186403\n2  0.225045  0.002153 -1.096205\n3  0.180715 -0.563616  0.358734\n4 -0.898724  0.268541  1.129626\n5  0.123984 -1.014790 -0.653534",
      "text/html": "<div>\n<style scoped>\n    .dataframe tbody tr th:only-of-type {\n        vertical-align: middle;\n    }\n\n    .dataframe tbody tr th {\n        vertical-align: top;\n    }\n\n    .dataframe thead th {\n        text-align: right;\n    }\n</style>\n<table border=\"1\" class=\"dataframe\">\n  <thead>\n    <tr style=\"text-align: right;\">\n      <th></th>\n      <th>ser_1</th>\n      <th>ser_2</th>\n      <th>ser_3</th>\n    </tr>\n  </thead>\n  <tbody>\n    <tr>\n      <th>0</th>\n      <td>-0.673460</td>\n      <td>-0.375016</td>\n      <td>0.667032</td>\n    </tr>\n    <tr>\n      <th>1</th>\n      <td>0.902934</td>\n      <td>-0.757647</td>\n      <td>1.186403</td>\n    </tr>\n    <tr>\n      <th>2</th>\n      <td>0.225045</td>\n      <td>0.002153</td>\n      <td>-1.096205</td>\n    </tr>\n    <tr>\n      <th>3</th>\n      <td>0.180715</td>\n      <td>-0.563616</td>\n      <td>0.358734</td>\n    </tr>\n    <tr>\n      <th>4</th>\n      <td>-0.898724</td>\n      <td>0.268541</td>\n      <td>1.129626</td>\n    </tr>\n    <tr>\n      <th>5</th>\n      <td>0.123984</td>\n      <td>-1.014790</td>\n      <td>-0.653534</td>\n    </tr>\n  </tbody>\n</table>\n</div>"
     },
     "execution_count": 4,
     "metadata": {},
     "output_type": "execute_result"
    }
   ],
   "source": [
    "# given the following three Series, create a DataFrame such that it holds them as its columns\n",
    "ser_1 = pd.Series(np.random.randn(6))\n",
    "ser_2 = pd.Series(np.random.randn(6))\n",
    "ser_3 = pd.Series(np.random.randn(6))\n",
    "pd.DataFrame({'ser_1': ser_1, 'ser_2': ser_2, 'ser_3': ser_3})"
   ]
  },
  {
   "cell_type": "markdown",
   "metadata": {},
   "source": [
    "# Pandas questions: Indexing"
   ]
  },
  {
   "cell_type": "markdown",
   "metadata": {},
   "source": [
    "## 1. Indexing into a specific column"
   ]
  },
  {
   "cell_type": "code",
   "execution_count": 5,
   "metadata": {
    "collapsed": false
   },
   "outputs": [
    {
     "data": {
      "text/plain": "      col_1  col_2 col_3\nobs1   0.12    0.9   NaN\nobs2   7.00    9.0   NaN\nobs3  45.00   34.0   NaN\nobs4  10.00   11.0   NaN",
      "text/html": "<div>\n<style scoped>\n    .dataframe tbody tr th:only-of-type {\n        vertical-align: middle;\n    }\n\n    .dataframe tbody tr th {\n        vertical-align: top;\n    }\n\n    .dataframe thead th {\n        text-align: right;\n    }\n</style>\n<table border=\"1\" class=\"dataframe\">\n  <thead>\n    <tr style=\"text-align: right;\">\n      <th></th>\n      <th>col_1</th>\n      <th>col_2</th>\n      <th>col_3</th>\n    </tr>\n  </thead>\n  <tbody>\n    <tr>\n      <th>obs1</th>\n      <td>0.12</td>\n      <td>0.9</td>\n      <td>NaN</td>\n    </tr>\n    <tr>\n      <th>obs2</th>\n      <td>7.00</td>\n      <td>9.0</td>\n      <td>NaN</td>\n    </tr>\n    <tr>\n      <th>obs3</th>\n      <td>45.00</td>\n      <td>34.0</td>\n      <td>NaN</td>\n    </tr>\n    <tr>\n      <th>obs4</th>\n      <td>10.00</td>\n      <td>11.0</td>\n      <td>NaN</td>\n    </tr>\n  </tbody>\n</table>\n</div>"
     },
     "execution_count": 5,
     "metadata": {},
     "output_type": "execute_result"
    }
   ],
   "source": [
    "# given the following DataFrame, try to index into the 'col_2' column\n",
    "df = pd.DataFrame(data={'col_1': [0.12, 7, 45, 10], 'col_2': [0.9, 9, 34, 11]},\n",
    "                  columns=['col_1', 'col_2', 'col_3'],\n",
    "                  index=['obs1', 'obs2', 'obs3', 'obs4'])\n",
    "df"
   ]
  },
  {
   "cell_type": "code",
   "execution_count": 6,
   "outputs": [
    {
     "data": {
      "text/plain": "obs1     0.9\nobs2     9.0\nobs3    34.0\nobs4    11.0\nName: col_2, dtype: float64"
     },
     "execution_count": 6,
     "metadata": {},
     "output_type": "execute_result"
    }
   ],
   "source": [
    "df.col_2"
   ],
   "metadata": {
    "collapsed": false,
    "pycharm": {
     "name": "#%%\n"
    }
   }
  },
  {
   "cell_type": "markdown",
   "metadata": {},
   "source": [
    "## 2. Label-based indexing"
   ]
  },
  {
   "cell_type": "code",
   "execution_count": 7,
   "outputs": [
    {
     "data": {
      "text/plain": "col_1    45.0\ncol_2    34.0\ncol_3     NaN\nName: obs3, dtype: object"
     },
     "execution_count": 7,
     "metadata": {},
     "output_type": "execute_result"
    }
   ],
   "source": [
    "# using the same DataFrame, index into the row whose index is 'obs3'\n",
    "df.loc['obs3']"
   ],
   "metadata": {
    "collapsed": false,
    "pycharm": {
     "name": "#%%\n"
    }
   }
  },
  {
   "cell_type": "markdown",
   "metadata": {},
   "source": [
    "## 2. Position-based indexing"
   ]
  },
  {
   "cell_type": "code",
   "execution_count": 8,
   "metadata": {
    "collapsed": false
   },
   "outputs": [
    {
     "data": {
      "text/plain": "      col_1  col_2 col_3\nobs1   0.12    0.9   NaN",
      "text/html": "<div>\n<style scoped>\n    .dataframe tbody tr th:only-of-type {\n        vertical-align: middle;\n    }\n\n    .dataframe tbody tr th {\n        vertical-align: top;\n    }\n\n    .dataframe thead th {\n        text-align: right;\n    }\n</style>\n<table border=\"1\" class=\"dataframe\">\n  <thead>\n    <tr style=\"text-align: right;\">\n      <th></th>\n      <th>col_1</th>\n      <th>col_2</th>\n      <th>col_3</th>\n    </tr>\n  </thead>\n  <tbody>\n    <tr>\n      <th>obs1</th>\n      <td>0.12</td>\n      <td>0.9</td>\n      <td>NaN</td>\n    </tr>\n  </tbody>\n</table>\n</div>"
     },
     "execution_count": 8,
     "metadata": {},
     "output_type": "execute_result"
    }
   ],
   "source": [
    "# using the same DataFrame, index into into its first row\n",
    "df.iloc[:1]"
   ]
  },
  {
   "cell_type": "markdown",
   "metadata": {},
   "source": [
    "# Mini-Challenge prep: data loading\n",
    "\n",
    "## 1. How to load the `users` and `movies` portions of MovieLens"
   ]
  },
  {
   "cell_type": "code",
   "execution_count": 9,
   "metadata": {
    "collapsed": false
   },
   "outputs": [],
   "source": [
    "import pandas as pd\n",
    "\n",
    "users = pd.read_table('data/ml-1m/users.dat',\n",
    "                      sep='::', header=None,\n",
    "                      names=['user_id', 'gender', 'age', 'occupation', 'zip'], engine='python')\n",
    "\n",
    "movies = pd.read_table('data/ml-1m/movies.dat',\n",
    "                       sep='::', header=None,\n",
    "                       names=['movie_id', 'title', 'genres'], engine='python')"
   ]
  },
  {
   "cell_type": "markdown",
   "metadata": {},
   "source": [
    "## 2. How to load the training and testing subsets"
   ]
  },
  {
   "cell_type": "code",
   "execution_count": 10,
   "metadata": {
    "collapsed": false
   },
   "outputs": [],
   "source": [
    "# subset version (hosted notebook)\n",
    "movielens_train = pd.read_csv('data/movielens_train.csv', index_col=0)\n",
    "movielens_test = pd.read_csv('data/movielens_test.csv', index_col=0)"
   ]
  },
  {
   "cell_type": "code",
   "execution_count": 11,
   "metadata": {
    "collapsed": false
   },
   "outputs": [
    {
     "data": {
      "text/plain": "        user_id  movie_id  rating  timestamp gender  age  occupation    zip  \\\n593263     3562      3798       4  967332344      F   25           6  32812   \n235597     1051      3793       4  974958593      F   25           0  60513   \n219003     3727      2366       3  966309522      M   35           7  74401   \n685090     4666      1094       3  963843918      M   35           1  53704   \n312377     3261      1095       4  968251750      M   45          20  87505   \n\n                             title                   genres  for_testing  \n593263    What Lies Beneath (2000)                 Thriller        False  \n235597                X-Men (2000)            Action|Sci-Fi        False  \n219003            King Kong (1933)  Action|Adventure|Horror        False  \n685090     Crying Game, The (1992)        Drama|Romance|War        False  \n312377  Glengarry Glen Ross (1992)                    Drama        False  ",
      "text/html": "<div>\n<style scoped>\n    .dataframe tbody tr th:only-of-type {\n        vertical-align: middle;\n    }\n\n    .dataframe tbody tr th {\n        vertical-align: top;\n    }\n\n    .dataframe thead th {\n        text-align: right;\n    }\n</style>\n<table border=\"1\" class=\"dataframe\">\n  <thead>\n    <tr style=\"text-align: right;\">\n      <th></th>\n      <th>user_id</th>\n      <th>movie_id</th>\n      <th>rating</th>\n      <th>timestamp</th>\n      <th>gender</th>\n      <th>age</th>\n      <th>occupation</th>\n      <th>zip</th>\n      <th>title</th>\n      <th>genres</th>\n      <th>for_testing</th>\n    </tr>\n  </thead>\n  <tbody>\n    <tr>\n      <th>593263</th>\n      <td>3562</td>\n      <td>3798</td>\n      <td>4</td>\n      <td>967332344</td>\n      <td>F</td>\n      <td>25</td>\n      <td>6</td>\n      <td>32812</td>\n      <td>What Lies Beneath (2000)</td>\n      <td>Thriller</td>\n      <td>False</td>\n    </tr>\n    <tr>\n      <th>235597</th>\n      <td>1051</td>\n      <td>3793</td>\n      <td>4</td>\n      <td>974958593</td>\n      <td>F</td>\n      <td>25</td>\n      <td>0</td>\n      <td>60513</td>\n      <td>X-Men (2000)</td>\n      <td>Action|Sci-Fi</td>\n      <td>False</td>\n    </tr>\n    <tr>\n      <th>219003</th>\n      <td>3727</td>\n      <td>2366</td>\n      <td>3</td>\n      <td>966309522</td>\n      <td>M</td>\n      <td>35</td>\n      <td>7</td>\n      <td>74401</td>\n      <td>King Kong (1933)</td>\n      <td>Action|Adventure|Horror</td>\n      <td>False</td>\n    </tr>\n    <tr>\n      <th>685090</th>\n      <td>4666</td>\n      <td>1094</td>\n      <td>3</td>\n      <td>963843918</td>\n      <td>M</td>\n      <td>35</td>\n      <td>1</td>\n      <td>53704</td>\n      <td>Crying Game, The (1992)</td>\n      <td>Drama|Romance|War</td>\n      <td>False</td>\n    </tr>\n    <tr>\n      <th>312377</th>\n      <td>3261</td>\n      <td>1095</td>\n      <td>4</td>\n      <td>968251750</td>\n      <td>M</td>\n      <td>45</td>\n      <td>20</td>\n      <td>87505</td>\n      <td>Glengarry Glen Ross (1992)</td>\n      <td>Drama</td>\n      <td>False</td>\n    </tr>\n  </tbody>\n</table>\n</div>"
     },
     "execution_count": 11,
     "metadata": {},
     "output_type": "execute_result"
    }
   ],
   "source": [
    "movielens_train.head()"
   ]
  },
  {
   "cell_type": "code",
   "execution_count": 12,
   "metadata": {
    "collapsed": false
   },
   "outputs": [
    {
     "data": {
      "text/plain": "        user_id  movie_id  rating   timestamp gender  age  occupation    zip  \\\n693323     4653      2648       4   975532459      M   35          12  95051   \n24177      2259      1270       4   974591524      F   56          16  70503   \n202202     3032      1378       5   970343147      M   25           0  47303   \n262003     3029      2289       4   972846393      M   18           4  92037   \n777848     4186      2403       3  1017931262      M   25           7  33308   \n\n                            title                 genres  for_testing  \n693323        Frankenstein (1931)                 Horror        False  \n24177   Back to the Future (1985)          Comedy|Sci-Fi        False  \n202202          Young Guns (1988)  Action|Comedy|Western        False  \n262003         Player, The (1992)           Comedy|Drama        False  \n777848         First Blood (1982)                 Action        False  ",
      "text/html": "<div>\n<style scoped>\n    .dataframe tbody tr th:only-of-type {\n        vertical-align: middle;\n    }\n\n    .dataframe tbody tr th {\n        vertical-align: top;\n    }\n\n    .dataframe thead th {\n        text-align: right;\n    }\n</style>\n<table border=\"1\" class=\"dataframe\">\n  <thead>\n    <tr style=\"text-align: right;\">\n      <th></th>\n      <th>user_id</th>\n      <th>movie_id</th>\n      <th>rating</th>\n      <th>timestamp</th>\n      <th>gender</th>\n      <th>age</th>\n      <th>occupation</th>\n      <th>zip</th>\n      <th>title</th>\n      <th>genres</th>\n      <th>for_testing</th>\n    </tr>\n  </thead>\n  <tbody>\n    <tr>\n      <th>693323</th>\n      <td>4653</td>\n      <td>2648</td>\n      <td>4</td>\n      <td>975532459</td>\n      <td>M</td>\n      <td>35</td>\n      <td>12</td>\n      <td>95051</td>\n      <td>Frankenstein (1931)</td>\n      <td>Horror</td>\n      <td>False</td>\n    </tr>\n    <tr>\n      <th>24177</th>\n      <td>2259</td>\n      <td>1270</td>\n      <td>4</td>\n      <td>974591524</td>\n      <td>F</td>\n      <td>56</td>\n      <td>16</td>\n      <td>70503</td>\n      <td>Back to the Future (1985)</td>\n      <td>Comedy|Sci-Fi</td>\n      <td>False</td>\n    </tr>\n    <tr>\n      <th>202202</th>\n      <td>3032</td>\n      <td>1378</td>\n      <td>5</td>\n      <td>970343147</td>\n      <td>M</td>\n      <td>25</td>\n      <td>0</td>\n      <td>47303</td>\n      <td>Young Guns (1988)</td>\n      <td>Action|Comedy|Western</td>\n      <td>False</td>\n    </tr>\n    <tr>\n      <th>262003</th>\n      <td>3029</td>\n      <td>2289</td>\n      <td>4</td>\n      <td>972846393</td>\n      <td>M</td>\n      <td>18</td>\n      <td>4</td>\n      <td>92037</td>\n      <td>Player, The (1992)</td>\n      <td>Comedy|Drama</td>\n      <td>False</td>\n    </tr>\n    <tr>\n      <th>777848</th>\n      <td>4186</td>\n      <td>2403</td>\n      <td>3</td>\n      <td>1017931262</td>\n      <td>M</td>\n      <td>25</td>\n      <td>7</td>\n      <td>33308</td>\n      <td>First Blood (1982)</td>\n      <td>Action</td>\n      <td>False</td>\n    </tr>\n  </tbody>\n</table>\n</div>"
     },
     "execution_count": 12,
     "metadata": {},
     "output_type": "execute_result"
    }
   ],
   "source": [
    "movielens_test.head()"
   ]
  },
  {
   "cell_type": "markdown",
   "metadata": {},
   "source": [
    "# Mini-Challenge prep: evaluation functions\n",
    "\n",
    "These are the two functions that you will need to test your `estimate` method."
   ]
  },
  {
   "cell_type": "code",
   "execution_count": 13,
   "metadata": {
    "collapsed": false
   },
   "outputs": [],
   "source": [
    "def compute_rmse(y_pred, y_true):\n",
    "    \"\"\" Compute Root Mean Squared Error. \"\"\"\n",
    "    \n",
    "    return np.sqrt(np.mean(np.power(y_pred - y_true, 2)))"
   ]
  },
  {
   "cell_type": "code",
   "execution_count": 14,
   "metadata": {
    "collapsed": false
   },
   "outputs": [],
   "source": [
    "def evaluate(estimate_f):\n",
    "    \"\"\" RMSE-based predictive performance evaluation with pandas. \"\"\"\n",
    "    \n",
    "    ids_to_estimate = zip(movielens_test.user_id, movielens_test.movie_id)\n",
    "    estimated = np.array([estimate_f(u,i) for (u,i) in ids_to_estimate])\n",
    "    real = movielens_test.rating.values\n",
    "    return compute_rmse(estimated, real)"
   ]
  },
  {
   "cell_type": "markdown",
   "metadata": {},
   "source": [
    "Test a dummy solution!"
   ]
  },
  {
   "cell_type": "code",
   "execution_count": 15,
   "metadata": {
    "collapsed": false
   },
   "outputs": [],
   "source": [
    "# This is a baseline that just gives an average rating to everything\n",
    "def my_estimate_func(user_id, movie_id):\n",
    "    return 3.0"
   ]
  },
  {
   "cell_type": "markdown",
   "metadata": {},
   "source": [
    "You can test for performance with the following line, which assumes that your function is called `my_estimate_func`:"
   ]
  },
  {
   "cell_type": "code",
   "execution_count": 16,
   "metadata": {
    "collapsed": false
   },
   "outputs": [
    {
     "name": "stdout",
     "output_type": "stream",
     "text": [
      "RMSE for my estimate function: 1.2323719526527521\n"
     ]
    }
   ],
   "source": [
    "print('RMSE for my estimate function: %s' % evaluate(my_estimate_func))"
   ]
  },
  {
   "cell_type": "markdown",
   "source": [
    "The above is the starting baseline. \n",
    "Want to improve from here.  \n",
    "0 error means the recommendation is perfect.\n",
    "4 (5-1) is the maximum amount it could be off."
   ],
   "metadata": {
    "collapsed": false,
    "pycharm": {
     "name": "#%% md\n"
    }
   }
  },
  {
   "cell_type": "markdown",
   "metadata": {},
   "source": [
    "# Reco systems questions: Minimal reco engine v1.0"
   ]
  },
  {
   "cell_type": "markdown",
   "metadata": {},
   "source": [
    "## 1. Simple collaborative filtering using mean ratings"
   ]
  },
  {
   "cell_type": "code",
   "execution_count": 17,
   "metadata": {
    "collapsed": false
   },
   "outputs": [
    {
     "data": {
      "text/plain": "4.0"
     },
     "execution_count": 17,
     "metadata": {},
     "output_type": "execute_result"
    }
   ],
   "source": [
    "# write an 'estimate' function that computes the mean rating of a particular user\n",
    "def collab_mean(user_id, movie_id):\n",
    "    \"\"\" Simple collaborative filter based on mean ratings. \"\"\"\n",
    "    \n",
    "    user_condition = movielens_train.user_id != user_id\n",
    "    movie_condition = movielens_train.movie_id == movie_id\n",
    "    ratings_by_others = movielens_train.loc[user_condition & movie_condition]\n",
    "    if ratings_by_others.empty:\n",
    "        return 3.0\n",
    "    else:\n",
    "        return ratings_by_others.rating.mean()\n",
    "\n",
    "    \n",
    "# try it out for a user_id, movie_id pair\n",
    "collab_mean(4653, 2648)"
   ]
  },
  {
   "cell_type": "code",
   "execution_count": 18,
   "outputs": [
    {
     "name": "stdout",
     "output_type": "stream",
     "text": [
      "RMSE for estimate2 is: 1.1234279896011794.\n"
     ]
    }
   ],
   "source": [
    "print(f'RMSE for estimate2 is: {evaluate(collab_mean)}.')"
   ],
   "metadata": {
    "collapsed": false,
    "pycharm": {
     "name": "#%%\n"
    }
   }
  },
  {
   "cell_type": "markdown",
   "metadata": {},
   "source": [
    "# Mini-Challenge: first round\n",
    "Implement an `estimate` function of your own using other similarity notions, eg.:\n",
    "\n",
    "- collaborative filter based on age similarities\n",
    "- collaborative filter based on zip code similarities\n",
    "- collaborative filter based on occupation similarities\n",
    "- content filter based on movie genre"
   ]
  },
  {
   "cell_type": "code",
   "execution_count": 19,
   "outputs": [
    {
     "data": {
      "text/plain": "        gender  age  occupation    zip\nuser_id                               \n1            F    1          10  48067\n2            M   56          16  70072\n3            M   25          15  55117",
      "text/html": "<div>\n<style scoped>\n    .dataframe tbody tr th:only-of-type {\n        vertical-align: middle;\n    }\n\n    .dataframe tbody tr th {\n        vertical-align: top;\n    }\n\n    .dataframe thead th {\n        text-align: right;\n    }\n</style>\n<table border=\"1\" class=\"dataframe\">\n  <thead>\n    <tr style=\"text-align: right;\">\n      <th></th>\n      <th>gender</th>\n      <th>age</th>\n      <th>occupation</th>\n      <th>zip</th>\n    </tr>\n    <tr>\n      <th>user_id</th>\n      <th></th>\n      <th></th>\n      <th></th>\n      <th></th>\n    </tr>\n  </thead>\n  <tbody>\n    <tr>\n      <th>1</th>\n      <td>F</td>\n      <td>1</td>\n      <td>10</td>\n      <td>48067</td>\n    </tr>\n    <tr>\n      <th>2</th>\n      <td>M</td>\n      <td>56</td>\n      <td>16</td>\n      <td>70072</td>\n    </tr>\n    <tr>\n      <th>3</th>\n      <td>M</td>\n      <td>25</td>\n      <td>15</td>\n      <td>55117</td>\n    </tr>\n  </tbody>\n</table>\n</div>"
     },
     "execution_count": 19,
     "metadata": {},
     "output_type": "execute_result"
    }
   ],
   "source": [
    "user_info = users.set_index('user_id')\n",
    "user_info.head(3)"
   ],
   "metadata": {
    "collapsed": false,
    "pycharm": {
     "name": "#%%\n"
    }
   }
  },
  {
   "cell_type": "code",
   "execution_count": 20,
   "outputs": [],
   "source": [
    "class CollaborativeRecommendation:\n",
    "    \"\"\" Collaborative filtering using an implicit sim(u,u'). \"\"\"\n",
    "\n",
    "    def __init__(self):\n",
    "        \"\"\" Prepare data structures for estimation. \"\"\"\n",
    "        self.means_by_gender = movielens_train.pivot_table('rating', index='movie_id', columns='gender')\n",
    "        self.means_by_age = movielens_train.pivot_table('rating', index='movie_id', columns='age')\n",
    "        self.means_by_zip = movielens_train.pivot_table('rating', index='movie_id', columns='zip')\n",
    "        self.means_by_occupation = movielens_train.pivot_table('rating', index='movie_id', columns='occupation')\n",
    "\n",
    "    def estimate_gender(self, user_id, movie_id):\n",
    "        \"\"\" Mean ratings by other users of the same gender. \"\"\"\n",
    "        \n",
    "        if movie_id not in self.means_by_gender.index: \n",
    "            return 3.0\n",
    "        \n",
    "        user_gender = user_info.loc[user_id, 'gender']\n",
    "        if ~np.isnan(self.means_by_gender.loc[movie_id, user_gender]):\n",
    "            return self.means_by_gender.loc[movie_id, user_gender]\n",
    "        else:\n",
    "            return self.means_by_gender.loc[movie_id].mean()\n",
    "\n",
    "    def estimate_age(self, user_id, movie_id):\n",
    "        \"\"\" Mean ratings by other users of the same age. \"\"\"\n",
    "        \n",
    "        if movie_id not in self.means_by_age.index: \n",
    "            return 3.0\n",
    "        \n",
    "        user_age = user_info.loc[user_id, 'age']\n",
    "        if ~np.isnan(self.means_by_age.loc[movie_id, user_age]):\n",
    "            return self.means_by_age.loc[movie_id, user_age]\n",
    "        else:\n",
    "            return self.means_by_age.loc[movie_id].mean()\n",
    "\n",
    "    def estimate_zip(self, user_id, movie_id):\n",
    "        \"\"\" Mean ratings by other users of the same zip code. \"\"\"\n",
    "        \n",
    "        if movie_id not in self.means_by_zip.index: \n",
    "            return 3.0\n",
    "        \n",
    "        user_zip = user_info.loc[user_id, 'zip']\n",
    "        if ~np.isnan(self.means_by_zip.loc[movie_id, user_zip]):\n",
    "            return self.means_by_zip.loc[movie_id, user_zip]\n",
    "        else:\n",
    "            return self.means_by_zip.loc[movie_id].mean()\n",
    "\n",
    "    def estimate_occupation(self, user_id, movie_id):\n",
    "        \"\"\" Mean ratings by other users of the same occupation. \"\"\"\n",
    "        \n",
    "        if movie_id not in self.means_by_occupation.index: \n",
    "            return 3.0\n",
    "        \n",
    "        user_occupation = user_info.loc[user_id, 'occupation']\n",
    "        if ~np.isnan(self.means_by_occupation.loc[movie_id, user_occupation]):\n",
    "            return self.means_by_occupation.loc[movie_id, user_occupation]\n",
    "        else:\n",
    "            return self.means_by_occupation.loc[movie_id].mean()"
   ],
   "metadata": {
    "collapsed": false,
    "pycharm": {
     "name": "#%%\n"
    }
   }
  },
  {
   "cell_type": "code",
   "execution_count": 23,
   "outputs": [
    {
     "name": "stdout",
     "output_type": "stream",
     "text": [
      "RMSE for Gender: 1.1740082417112805\n",
      "RMSE for Age: 1.2052013344107597\n",
      "RMSE for Zip: 1.1256640319176328\n",
      "RMSE for Occupation: 1.202876964364191\n"
     ]
    }
   ],
   "source": [
    "reco = CollaborativeRecommendation()\n",
    "print('RMSE for Gender: %s' % evaluate(reco.estimate_gender))\n",
    "print('RMSE for Age: %s' % evaluate(reco.estimate_age))\n",
    "print('RMSE for Zip: %s' % evaluate(reco.estimate_zip))\n",
    "print('RMSE for Occupation: %s' % evaluate(reco.estimate_occupation))"
   ],
   "metadata": {
    "collapsed": false,
    "pycharm": {
     "name": "#%%\n"
    }
   }
  },
  {
   "cell_type": "code",
   "execution_count": 32,
   "outputs": [],
   "source": [
    "class CollaborativeRecommendation2:\n",
    "    \"\"\" Collaborative filtering using an implicit sim(u,u'). \"\"\"\n",
    "\n",
    "    def __init__(self, feature):\n",
    "        \"\"\" Prepare data structures for estimation. \"\"\"\n",
    "        self._feature = feature\n",
    "        self.means_by_feature = movielens_train.pivot_table('rating', index='movie_id', columns=self.feature)\n",
    "\n",
    "    @property\n",
    "    def feature(self):\n",
    "        return self._feature\n",
    "        \n",
    "    def estimate(self, user_id, movie_id):\n",
    "        \"\"\" Mean ratings by other users of the same feature. \"\"\"\n",
    "        \n",
    "        if movie_id not in self.means_by_feature.index: \n",
    "            return 3.0\n",
    "        \n",
    "        user_feature = user_info.loc[user_id, self.feature]\n",
    "        if ~np.isnan(self.means_by_feature.loc[movie_id, user_feature]):\n",
    "            return self.means_by_feature.loc[movie_id, user_feature]\n",
    "        else:\n",
    "            return self.means_by_feature.loc[movie_id].mean()"
   ],
   "metadata": {
    "collapsed": false,
    "pycharm": {
     "name": "#%%\n"
    }
   }
  },
  {
   "cell_type": "code",
   "execution_count": 33,
   "outputs": [
    {
     "name": "stdout",
     "output_type": "stream",
     "text": [
      "RMSE for Gender: 1.1740082417112805\n",
      "RMSE for Age: 1.2052013344107597\n",
      "RMSE for Zip: 1.1256640319176328\n",
      "RMSE for Occupation: 1.202876964364191\n"
     ]
    }
   ],
   "source": [
    "gender = CollaborativeRecommendation2('gender')\n",
    "print('RMSE for Gender: %s' % evaluate(gender.estimate))\n",
    "age = CollaborativeRecommendation2('age')\n",
    "print('RMSE for Age: %s' % evaluate(age.estimate))\n",
    "zip_code = CollaborativeRecommendation2('zip')\n",
    "print('RMSE for Zip: %s' % evaluate(zip_code.estimate))\n",
    "occupation = CollaborativeRecommendation2('occupation')\n",
    "print('RMSE for Occupation: %s' % evaluate(occupation.estimate))"
   ],
   "metadata": {
    "collapsed": false,
    "pycharm": {
     "name": "#%%\n"
    }
   }
  },
  {
   "cell_type": "markdown",
   "metadata": {},
   "source": [
    "# Mini-Challenge: second round\n",
    "Implement an `estimate` function of your own using other custom similarity notions, eg.:\n",
    "\n",
    "- euclidean\n",
    "- cosine"
   ]
  },
  {
   "cell_type": "code",
   "execution_count": 24,
   "outputs": [],
   "source": [
    "from scipy.special import logsumexp\n",
    "\n",
    "# Euclidean 'similarity'\n",
    "def euclidean(s1, s2):\n",
    "    \"\"\"Take two pd.Series objects and return their euclidean 'similarity'.\"\"\"\n",
    "    diff = s1 - s2\n",
    "    return 1 / (1 + np.sqrt(np.sum(diff ** 2)))\n",
    "\n",
    "# Cosine similarity\n",
    "def cosine(s1, s2):\n",
    "    \"\"\"Take two pd.Series objects and return their cosine similarity.\"\"\"\n",
    "    return np.sum(s1 * s2) / np.sqrt(np.sum(s1 ** 2) * np.sum(s2 ** 2))\n",
    "\n",
    "# Pearson correlation\n",
    "def pearson(s1, s2):\n",
    "    \"\"\"Take two pd.Series objects and return a pearson correlation.\"\"\"\n",
    "    s1_c = s1 - s1.mean()\n",
    "    s2_c = s2 - s2.mean()\n",
    "    return np.sum(s1_c * s2_c) / np.sqrt(np.sum(logsumexp(s1_c ** 2)) * np.sum(logsumexp(s2_c ** 2)))\n",
    "\n",
    "# Jaccard similarity\n",
    "def jaccard(s1, s2):\n",
    "    dotp = np.sum(s1 * s2)\n",
    "    return dotp / (np.sum(s1 ** 2) + np.sum(s2 ** 2) - dotp)\n",
    "\n",
    "def binjaccard(s1, s2):\n",
    "    dotp = s1.index.intersection(s2.index).size\n",
    "    return dotp / (s1.sum() + s2.sum() - dotp)"
   ],
   "metadata": {
    "collapsed": false,
    "pycharm": {
     "name": "#%%\n"
    }
   }
  },
  {
   "cell_type": "code",
   "execution_count": 25,
   "outputs": [],
   "source": [
    "class CollaborativeSimilarityRecommendation:\n",
    "    \"\"\" Collaborative filtering using a custom sim(u,u'). \"\"\"\n",
    "\n",
    "    def __init__(self, similarity=None):\n",
    "        \"\"\" Prepare datastructures for estimation. \"\"\"\n",
    "        self.all_user_profiles = movielens_train.pivot_table('rating', index='movie_id', columns='user_id')\n",
    "        self._similarity = similarity\n",
    "        \n",
    "    @property\n",
    "    def similarity(self):\n",
    "        return self._similarity\n",
    "    \n",
    "    @similarity.setter\n",
    "    def similarity(self, value):\n",
    "        self._similarity = value\n",
    "        \n",
    "    def estimate(self, user_id, movie_id):\n",
    "        \"\"\" Ratings weighted by correlation similarity. \"\"\"\n",
    "        \n",
    "        user_condition = movielens_train.user_id != user_id\n",
    "        movie_condition = movielens_train.movie_id == movie_id\n",
    "        ratings_by_others = movielens_train.loc[user_condition & movie_condition]\n",
    "        if ratings_by_others.empty: \n",
    "            return 3.0\n",
    "        \n",
    "        ratings_by_others.set_index('user_id', inplace=True)\n",
    "        their_ids = ratings_by_others.index\n",
    "        their_ratings = ratings_by_others.rating\n",
    "        their_profiles = self.all_user_profiles[their_ids]\n",
    "        user_profile = self.all_user_profiles[user_id]\n",
    "        sims = their_profiles.apply(lambda profile: self.similarity(profile, user_profile), axis=0)\n",
    "        ratings_sims = pd.DataFrame({'sim': sims, 'rating': their_ratings})\n",
    "        ratings_sims = ratings_sims[ratings_sims.sim > 0]\n",
    "        if ratings_sims.empty:\n",
    "            return their_ratings.mean()\n",
    "        else:\n",
    "            return np.average(ratings_sims.rating, weights=ratings_sims.sim)\n",
    "        \n",
    "        "
   ],
   "metadata": {
    "collapsed": false,
    "pycharm": {
     "name": "#%%\n"
    }
   }
  },
  {
   "cell_type": "code",
   "execution_count": 26,
   "outputs": [
    {
     "name": "stdout",
     "output_type": "stream",
     "text": [
      "RMSE for Pearson: 1.1234279896011794\n"
     ]
    }
   ],
   "source": [
    "reco = CollaborativeSimilarityRecommendation(pearson)\n",
    "print('RMSE for Pearson: %s' % evaluate(reco.estimate))"
   ],
   "metadata": {
    "collapsed": false,
    "pycharm": {
     "name": "#%%\n"
    }
   }
  },
  {
   "cell_type": "code",
   "execution_count": 27,
   "outputs": [
    {
     "name": "stdout",
     "output_type": "stream",
     "text": [
      "RMSE for Euclidean: 1.1234294760026475\n"
     ]
    }
   ],
   "source": [
    "reco = CollaborativeSimilarityRecommendation(euclidean)\n",
    "print('RMSE for Euclidean: %s' % evaluate(reco.estimate))"
   ],
   "metadata": {
    "collapsed": false,
    "pycharm": {
     "name": "#%%\n"
    }
   }
  },
  {
   "cell_type": "code",
   "execution_count": 28,
   "outputs": [
    {
     "name": "stdout",
     "output_type": "stream",
     "text": [
      "RMSE for Cosine: 1.1343992169551975\n"
     ]
    }
   ],
   "source": [
    "reco = CollaborativeSimilarityRecommendation(cosine)\n",
    "print('RMSE for Cosine: %s' % evaluate(reco.estimate))"
   ],
   "metadata": {
    "collapsed": false,
    "pycharm": {
     "name": "#%%\n"
    }
   }
  },
  {
   "cell_type": "code",
   "execution_count": 29,
   "outputs": [
    {
     "name": "stdout",
     "output_type": "stream",
     "text": [
      "RMSE for Jaccard: 1.1343992169551975\n"
     ]
    }
   ],
   "source": [
    "reco = CollaborativeSimilarityRecommendation(jaccard)\n",
    "print('RMSE for Jaccard: %s' % evaluate(reco.estimate))"
   ],
   "metadata": {
    "collapsed": false,
    "pycharm": {
     "name": "#%%\n"
    }
   }
  },
  {
   "cell_type": "code",
   "execution_count": 30,
   "outputs": [
    {
     "name": "stdout",
     "output_type": "stream",
     "text": [
      "RMSE for Bin Jaccard: 1.1234279896011794\n"
     ]
    }
   ],
   "source": [
    "reco = CollaborativeSimilarityRecommendation(binjaccard)\n",
    "print('RMSE for Bin Jaccard: %s' % evaluate(reco.estimate))"
   ],
   "metadata": {
    "collapsed": false,
    "pycharm": {
     "name": "#%%\n"
    }
   }
  },
  {
   "cell_type": "code",
   "execution_count": 31,
   "outputs": [
    {
     "name": "stdout",
     "output_type": "stream",
     "text": [
      "RMSE for recommender estimate class: 1.0522288050053856\n"
     ]
    }
   ],
   "source": [
    "from functools import reduce\n",
    "\n",
    "class Recommender(object):\n",
    "    def __init__(self):\n",
    "        self.overall_mean = movielens_train['rating'].mean()\n",
    "        self.all_user_profiles = movielens_train.pivot_table('rating', index='movie_id', columns='user_id')\n",
    "\n",
    "    def estimate_movie(self, user_id, movie_id):\n",
    "        all_ratings = movielens_train.loc[movielens_train.movie_id == movie_id]\n",
    "        if all_ratings.empty:\n",
    "            return self.overall_mean\n",
    "        all_ratings.set_index('user_id', inplace=True)\n",
    "        their_ids = all_ratings.index\n",
    "        their_ratings = all_ratings.rating\n",
    "        their_profiles = self.all_user_profiles[their_ids]\n",
    "        user_profile = self.all_user_profiles[user_id]\n",
    "        sims = their_profiles.apply(lambda profile: pearson(profile, user_profile), axis=0)\n",
    "        ratings_sims = pd.DataFrame({'sim': sims, 'rating': their_ratings})\n",
    "        ratings_sims = ratings_sims[ratings_sims.sim > 0]\n",
    "        if ratings_sims.empty:\n",
    "            return their_ratings.mean()\n",
    "        else:\n",
    "            return np.average(ratings_sims.rating, weights=ratings_sims.sim)\n",
    "\n",
    "    def estimate_user(self, user_id):\n",
    "        similar = movielens_train.loc[reduce(np.logical_and,\n",
    "                                             [movielens_train.gender == users.loc[user_id].gender,\n",
    "                                              movielens_train.occupation == users.loc[user_id].occupation,\n",
    "                                              abs(movielens_train.age - users.loc[user_id].age) < 10 ])]\n",
    "\n",
    "        if similar.empty:\n",
    "            return self.overall_mean\n",
    "        else:\n",
    "            return similar['rating'].mean()\n",
    "\n",
    "    def estimate(self, user_id, movie_id):\n",
    "        return 0.5 * self.estimate_user(user_id) + 0.5 * self.estimate_movie(user_id, movie_id)\n",
    "\n",
    "rec = Recommender()\n",
    "print('RMSE for recommender estimate class: %s' % evaluate(rec.estimate))\n"
   ],
   "metadata": {
    "collapsed": false,
    "pycharm": {
     "name": "#%%\n"
    }
   }
  }
 ],
 "metadata": {
  "kernelspec": {
   "name": "pycharm-cef1f773",
   "language": "python",
   "display_name": "PyCharm (pycon2015_tutorial322)"
  },
  "language_info": {
   "codemirror_mode": {
    "name": "ipython",
    "version": 2
   },
   "file_extension": ".py",
   "mimetype": "text/x-python",
   "name": "python",
   "nbconvert_exporter": "python",
   "pygments_lexer": "ipython2",
   "version": "2.7.9"
  }
 },
 "nbformat": 4,
 "nbformat_minor": 0
}