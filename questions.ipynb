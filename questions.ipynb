{
 "cells": [
  {
   "cell_type": "markdown",
   "metadata": {},
   "source": [
    "# Exercises for \"Hands-on with Pydata: How to Build a Minimal Recommendation Engine\""
   ]
  },
  {
   "cell_type": "markdown",
   "metadata": {},
   "source": [
    "# Systems check: imports and files"
   ]
  },
  {
   "cell_type": "code",
   "execution_count": 9,
   "metadata": {
    "collapsed": false
   },
   "outputs": [],
   "source": [
    "import numpy as np\n",
    "import pandas as pd"
   ]
  },
  {
   "cell_type": "markdown",
   "metadata": {},
   "source": [
    "# Pandas questions: Series and DataFrames\n",
    "## 1. Adding a column in a DataFrame"
   ]
  },
  {
   "cell_type": "code",
   "execution_count": 12,
   "metadata": {
    "collapsed": false
   },
   "outputs": [
    {
     "data": {
      "text/plain": "   col1  col2\n0     1     5\n1     2     6\n2     3     7\n3     4     8",
      "text/html": "<div>\n<style scoped>\n    .dataframe tbody tr th:only-of-type {\n        vertical-align: middle;\n    }\n\n    .dataframe tbody tr th {\n        vertical-align: top;\n    }\n\n    .dataframe thead th {\n        text-align: right;\n    }\n</style>\n<table border=\"1\" class=\"dataframe\">\n  <thead>\n    <tr style=\"text-align: right;\">\n      <th></th>\n      <th>col1</th>\n      <th>col2</th>\n    </tr>\n  </thead>\n  <tbody>\n    <tr>\n      <th>0</th>\n      <td>1</td>\n      <td>5</td>\n    </tr>\n    <tr>\n      <th>1</th>\n      <td>2</td>\n      <td>6</td>\n    </tr>\n    <tr>\n      <th>2</th>\n      <td>3</td>\n      <td>7</td>\n    </tr>\n    <tr>\n      <th>3</th>\n      <td>4</td>\n      <td>8</td>\n    </tr>\n  </tbody>\n</table>\n</div>"
     },
     "execution_count": 12,
     "metadata": {},
     "output_type": "execute_result"
    }
   ],
   "source": [
    "# given the following DataFrame, add a new column to it\n",
    "df = pd.DataFrame({'col1': [1,2,3,4]})\n",
    "df['col2'] = [5,6,7,8]\n",
    "df"
   ]
  },
  {
   "cell_type": "markdown",
   "metadata": {},
   "source": [
    "## 2. Deleting a row in a DataFrame"
   ]
  },
  {
   "cell_type": "code",
   "execution_count": 7,
   "metadata": {
    "collapsed": false
   },
   "outputs": [
    {
     "data": {
      "text/plain": "   col1\na     1\nb     2\nc     3",
      "text/html": "<div>\n<style scoped>\n    .dataframe tbody tr th:only-of-type {\n        vertical-align: middle;\n    }\n\n    .dataframe tbody tr th {\n        vertical-align: top;\n    }\n\n    .dataframe thead th {\n        text-align: right;\n    }\n</style>\n<table border=\"1\" class=\"dataframe\">\n  <thead>\n    <tr style=\"text-align: right;\">\n      <th></th>\n      <th>col1</th>\n    </tr>\n  </thead>\n  <tbody>\n    <tr>\n      <th>a</th>\n      <td>1</td>\n    </tr>\n    <tr>\n      <th>b</th>\n      <td>2</td>\n    </tr>\n    <tr>\n      <th>c</th>\n      <td>3</td>\n    </tr>\n  </tbody>\n</table>\n</div>"
     },
     "execution_count": 7,
     "metadata": {},
     "output_type": "execute_result"
    }
   ],
   "source": [
    "# given the following DataFrame, delete row 'd' from it\n",
    "df = pd.DataFrame({'col1': [1,2,3,4]}, index = ['a','b','c','d'])\n",
    "df.drop('d', inplace=True)\n",
    "df"
   ]
  },
  {
   "cell_type": "markdown",
   "metadata": {},
   "source": [
    "## 3. Creating a DataFrame from a few Series"
   ]
  },
  {
   "cell_type": "code",
   "execution_count": 13,
   "metadata": {
    "collapsed": false
   },
   "outputs": [
    {
     "data": {
      "text/plain": "      ser_1     ser_2     ser_3\n0  2.664820 -2.542164  0.239351\n1  0.045685  0.020789  0.717065\n2  0.406416  1.179213 -1.278233\n3 -0.973759  0.399484  1.617226\n4  0.121917  0.983340 -0.844072\n5  0.264107 -1.873809 -0.821832",
      "text/html": "<div>\n<style scoped>\n    .dataframe tbody tr th:only-of-type {\n        vertical-align: middle;\n    }\n\n    .dataframe tbody tr th {\n        vertical-align: top;\n    }\n\n    .dataframe thead th {\n        text-align: right;\n    }\n</style>\n<table border=\"1\" class=\"dataframe\">\n  <thead>\n    <tr style=\"text-align: right;\">\n      <th></th>\n      <th>ser_1</th>\n      <th>ser_2</th>\n      <th>ser_3</th>\n    </tr>\n  </thead>\n  <tbody>\n    <tr>\n      <th>0</th>\n      <td>2.664820</td>\n      <td>-2.542164</td>\n      <td>0.239351</td>\n    </tr>\n    <tr>\n      <th>1</th>\n      <td>0.045685</td>\n      <td>0.020789</td>\n      <td>0.717065</td>\n    </tr>\n    <tr>\n      <th>2</th>\n      <td>0.406416</td>\n      <td>1.179213</td>\n      <td>-1.278233</td>\n    </tr>\n    <tr>\n      <th>3</th>\n      <td>-0.973759</td>\n      <td>0.399484</td>\n      <td>1.617226</td>\n    </tr>\n    <tr>\n      <th>4</th>\n      <td>0.121917</td>\n      <td>0.983340</td>\n      <td>-0.844072</td>\n    </tr>\n    <tr>\n      <th>5</th>\n      <td>0.264107</td>\n      <td>-1.873809</td>\n      <td>-0.821832</td>\n    </tr>\n  </tbody>\n</table>\n</div>"
     },
     "execution_count": 13,
     "metadata": {},
     "output_type": "execute_result"
    }
   ],
   "source": [
    "# given the following three Series, create a DataFrame such that it holds them as its columns\n",
    "ser_1 = pd.Series(np.random.randn(6))\n",
    "ser_2 = pd.Series(np.random.randn(6))\n",
    "ser_3 = pd.Series(np.random.randn(6))\n",
    "pd.DataFrame({'ser_1': ser_1, 'ser_2': ser_2, 'ser_3': ser_3})"
   ]
  },
  {
   "cell_type": "markdown",
   "metadata": {},
   "source": [
    "# Pandas questions: Indexing"
   ]
  },
  {
   "cell_type": "markdown",
   "metadata": {},
   "source": [
    "## 1. Indexing into a specific column"
   ]
  },
  {
   "cell_type": "code",
   "execution_count": 14,
   "metadata": {
    "collapsed": false
   },
   "outputs": [
    {
     "data": {
      "text/plain": "      col_1  col_2 col_3\nobs1   0.12    0.9   NaN\nobs2   7.00    9.0   NaN\nobs3  45.00   34.0   NaN\nobs4  10.00   11.0   NaN",
      "text/html": "<div>\n<style scoped>\n    .dataframe tbody tr th:only-of-type {\n        vertical-align: middle;\n    }\n\n    .dataframe tbody tr th {\n        vertical-align: top;\n    }\n\n    .dataframe thead th {\n        text-align: right;\n    }\n</style>\n<table border=\"1\" class=\"dataframe\">\n  <thead>\n    <tr style=\"text-align: right;\">\n      <th></th>\n      <th>col_1</th>\n      <th>col_2</th>\n      <th>col_3</th>\n    </tr>\n  </thead>\n  <tbody>\n    <tr>\n      <th>obs1</th>\n      <td>0.12</td>\n      <td>0.9</td>\n      <td>NaN</td>\n    </tr>\n    <tr>\n      <th>obs2</th>\n      <td>7.00</td>\n      <td>9.0</td>\n      <td>NaN</td>\n    </tr>\n    <tr>\n      <th>obs3</th>\n      <td>45.00</td>\n      <td>34.0</td>\n      <td>NaN</td>\n    </tr>\n    <tr>\n      <th>obs4</th>\n      <td>10.00</td>\n      <td>11.0</td>\n      <td>NaN</td>\n    </tr>\n  </tbody>\n</table>\n</div>"
     },
     "execution_count": 14,
     "metadata": {},
     "output_type": "execute_result"
    }
   ],
   "source": [
    "# given the following DataFrame, try to index into the 'col_2' column\n",
    "df = pd.DataFrame(data={'col_1': [0.12, 7, 45, 10], 'col_2': [0.9, 9, 34, 11]},\n",
    "                  columns=['col_1', 'col_2', 'col_3'],\n",
    "                  index=['obs1', 'obs2', 'obs3', 'obs4'])\n",
    "df"
   ]
  },
  {
   "cell_type": "code",
   "execution_count": 20,
   "outputs": [
    {
     "data": {
      "text/plain": "obs1     0.9\nobs2     9.0\nobs3    34.0\nobs4    11.0\nName: col_2, dtype: float64"
     },
     "execution_count": 20,
     "metadata": {},
     "output_type": "execute_result"
    }
   ],
   "source": [
    "df.col_2"
   ],
   "metadata": {
    "collapsed": false,
    "pycharm": {
     "name": "#%%\n"
    }
   }
  },
  {
   "cell_type": "markdown",
   "metadata": {},
   "source": [
    "## 2. Label-based indexing"
   ]
  },
  {
   "cell_type": "code",
   "execution_count": 28,
   "outputs": [
    {
     "data": {
      "text/plain": "col_1    45.0\ncol_2    34.0\ncol_3     NaN\nName: obs3, dtype: object"
     },
     "execution_count": 28,
     "metadata": {},
     "output_type": "execute_result"
    }
   ],
   "source": [
    "# using the same DataFrame, index into the row whose index is 'obs3'\n",
    "df.loc['obs3']"
   ],
   "metadata": {
    "collapsed": false,
    "pycharm": {
     "name": "#%%\n"
    }
   }
  },
  {
   "cell_type": "markdown",
   "metadata": {},
   "source": [
    "## 2. Position-based indexing"
   ]
  },
  {
   "cell_type": "code",
   "execution_count": 31,
   "metadata": {
    "collapsed": false
   },
   "outputs": [
    {
     "data": {
      "text/plain": "      col_1  col_2 col_3\nobs1   0.12    0.9   NaN",
      "text/html": "<div>\n<style scoped>\n    .dataframe tbody tr th:only-of-type {\n        vertical-align: middle;\n    }\n\n    .dataframe tbody tr th {\n        vertical-align: top;\n    }\n\n    .dataframe thead th {\n        text-align: right;\n    }\n</style>\n<table border=\"1\" class=\"dataframe\">\n  <thead>\n    <tr style=\"text-align: right;\">\n      <th></th>\n      <th>col_1</th>\n      <th>col_2</th>\n      <th>col_3</th>\n    </tr>\n  </thead>\n  <tbody>\n    <tr>\n      <th>obs1</th>\n      <td>0.12</td>\n      <td>0.9</td>\n      <td>NaN</td>\n    </tr>\n  </tbody>\n</table>\n</div>"
     },
     "execution_count": 31,
     "metadata": {},
     "output_type": "execute_result"
    }
   ],
   "source": [
    "# using the same DataFrame, index into into its first row\n",
    "df.iloc[:1]"
   ]
  },
  {
   "cell_type": "markdown",
   "metadata": {},
   "source": [
    "# Mini-Challenge prep: data loading\n",
    "\n",
    "## 1. How to load the `users` and `movies` portions of MovieLens"
   ]
  },
  {
   "cell_type": "code",
   "execution_count": 1,
   "metadata": {
    "collapsed": false
   },
   "outputs": [],
   "source": [
    "import pandas as pd\n",
    "\n",
    "users = pd.read_table('data/ml-1m/users.dat',\n",
    "                      sep='::', header=None,\n",
    "                      names=['user_id', 'gender', 'age', 'occupation', 'zip'], engine='python')\n",
    "\n",
    "movies = pd.read_table('data/ml-1m/movies.dat',\n",
    "                       sep='::', header=None,\n",
    "                       names=['movie_id', 'title', 'genres'], engine='python')"
   ]
  },
  {
   "cell_type": "markdown",
   "metadata": {},
   "source": [
    "## 2. How to load the training and testing subsets"
   ]
  },
  {
   "cell_type": "code",
   "execution_count": 2,
   "metadata": {
    "collapsed": false
   },
   "outputs": [],
   "source": [
    "# subset version (hosted notebook)\n",
    "movielens_train = pd.read_csv('data/movielens_train.csv', index_col=0)\n",
    "movielens_test = pd.read_csv('data/movielens_test.csv', index_col=0)"
   ]
  },
  {
   "cell_type": "code",
   "execution_count": 3,
   "metadata": {
    "collapsed": false
   },
   "outputs": [
    {
     "data": {
      "text/plain": "        user_id  movie_id  rating  timestamp gender  age  occupation    zip  \\\n593263     3562      3798       4  967332344      F   25           6  32812   \n235597     1051      3793       4  974958593      F   25           0  60513   \n219003     3727      2366       3  966309522      M   35           7  74401   \n685090     4666      1094       3  963843918      M   35           1  53704   \n312377     3261      1095       4  968251750      M   45          20  87505   \n\n                             title                   genres  for_testing  \n593263    What Lies Beneath (2000)                 Thriller        False  \n235597                X-Men (2000)            Action|Sci-Fi        False  \n219003            King Kong (1933)  Action|Adventure|Horror        False  \n685090     Crying Game, The (1992)        Drama|Romance|War        False  \n312377  Glengarry Glen Ross (1992)                    Drama        False  ",
      "text/html": "<div>\n<style scoped>\n    .dataframe tbody tr th:only-of-type {\n        vertical-align: middle;\n    }\n\n    .dataframe tbody tr th {\n        vertical-align: top;\n    }\n\n    .dataframe thead th {\n        text-align: right;\n    }\n</style>\n<table border=\"1\" class=\"dataframe\">\n  <thead>\n    <tr style=\"text-align: right;\">\n      <th></th>\n      <th>user_id</th>\n      <th>movie_id</th>\n      <th>rating</th>\n      <th>timestamp</th>\n      <th>gender</th>\n      <th>age</th>\n      <th>occupation</th>\n      <th>zip</th>\n      <th>title</th>\n      <th>genres</th>\n      <th>for_testing</th>\n    </tr>\n  </thead>\n  <tbody>\n    <tr>\n      <th>593263</th>\n      <td>3562</td>\n      <td>3798</td>\n      <td>4</td>\n      <td>967332344</td>\n      <td>F</td>\n      <td>25</td>\n      <td>6</td>\n      <td>32812</td>\n      <td>What Lies Beneath (2000)</td>\n      <td>Thriller</td>\n      <td>False</td>\n    </tr>\n    <tr>\n      <th>235597</th>\n      <td>1051</td>\n      <td>3793</td>\n      <td>4</td>\n      <td>974958593</td>\n      <td>F</td>\n      <td>25</td>\n      <td>0</td>\n      <td>60513</td>\n      <td>X-Men (2000)</td>\n      <td>Action|Sci-Fi</td>\n      <td>False</td>\n    </tr>\n    <tr>\n      <th>219003</th>\n      <td>3727</td>\n      <td>2366</td>\n      <td>3</td>\n      <td>966309522</td>\n      <td>M</td>\n      <td>35</td>\n      <td>7</td>\n      <td>74401</td>\n      <td>King Kong (1933)</td>\n      <td>Action|Adventure|Horror</td>\n      <td>False</td>\n    </tr>\n    <tr>\n      <th>685090</th>\n      <td>4666</td>\n      <td>1094</td>\n      <td>3</td>\n      <td>963843918</td>\n      <td>M</td>\n      <td>35</td>\n      <td>1</td>\n      <td>53704</td>\n      <td>Crying Game, The (1992)</td>\n      <td>Drama|Romance|War</td>\n      <td>False</td>\n    </tr>\n    <tr>\n      <th>312377</th>\n      <td>3261</td>\n      <td>1095</td>\n      <td>4</td>\n      <td>968251750</td>\n      <td>M</td>\n      <td>45</td>\n      <td>20</td>\n      <td>87505</td>\n      <td>Glengarry Glen Ross (1992)</td>\n      <td>Drama</td>\n      <td>False</td>\n    </tr>\n  </tbody>\n</table>\n</div>"
     },
     "execution_count": 3,
     "metadata": {},
     "output_type": "execute_result"
    }
   ],
   "source": [
    "movielens_train.head()"
   ]
  },
  {
   "cell_type": "code",
   "execution_count": 4,
   "metadata": {
    "collapsed": false
   },
   "outputs": [
    {
     "data": {
      "text/plain": "        user_id  movie_id  rating   timestamp gender  age  occupation    zip  \\\n693323     4653      2648       4   975532459      M   35          12  95051   \n24177      2259      1270       4   974591524      F   56          16  70503   \n202202     3032      1378       5   970343147      M   25           0  47303   \n262003     3029      2289       4   972846393      M   18           4  92037   \n777848     4186      2403       3  1017931262      M   25           7  33308   \n\n                            title                 genres  for_testing  \n693323        Frankenstein (1931)                 Horror        False  \n24177   Back to the Future (1985)          Comedy|Sci-Fi        False  \n202202          Young Guns (1988)  Action|Comedy|Western        False  \n262003         Player, The (1992)           Comedy|Drama        False  \n777848         First Blood (1982)                 Action        False  ",
      "text/html": "<div>\n<style scoped>\n    .dataframe tbody tr th:only-of-type {\n        vertical-align: middle;\n    }\n\n    .dataframe tbody tr th {\n        vertical-align: top;\n    }\n\n    .dataframe thead th {\n        text-align: right;\n    }\n</style>\n<table border=\"1\" class=\"dataframe\">\n  <thead>\n    <tr style=\"text-align: right;\">\n      <th></th>\n      <th>user_id</th>\n      <th>movie_id</th>\n      <th>rating</th>\n      <th>timestamp</th>\n      <th>gender</th>\n      <th>age</th>\n      <th>occupation</th>\n      <th>zip</th>\n      <th>title</th>\n      <th>genres</th>\n      <th>for_testing</th>\n    </tr>\n  </thead>\n  <tbody>\n    <tr>\n      <th>693323</th>\n      <td>4653</td>\n      <td>2648</td>\n      <td>4</td>\n      <td>975532459</td>\n      <td>M</td>\n      <td>35</td>\n      <td>12</td>\n      <td>95051</td>\n      <td>Frankenstein (1931)</td>\n      <td>Horror</td>\n      <td>False</td>\n    </tr>\n    <tr>\n      <th>24177</th>\n      <td>2259</td>\n      <td>1270</td>\n      <td>4</td>\n      <td>974591524</td>\n      <td>F</td>\n      <td>56</td>\n      <td>16</td>\n      <td>70503</td>\n      <td>Back to the Future (1985)</td>\n      <td>Comedy|Sci-Fi</td>\n      <td>False</td>\n    </tr>\n    <tr>\n      <th>202202</th>\n      <td>3032</td>\n      <td>1378</td>\n      <td>5</td>\n      <td>970343147</td>\n      <td>M</td>\n      <td>25</td>\n      <td>0</td>\n      <td>47303</td>\n      <td>Young Guns (1988)</td>\n      <td>Action|Comedy|Western</td>\n      <td>False</td>\n    </tr>\n    <tr>\n      <th>262003</th>\n      <td>3029</td>\n      <td>2289</td>\n      <td>4</td>\n      <td>972846393</td>\n      <td>M</td>\n      <td>18</td>\n      <td>4</td>\n      <td>92037</td>\n      <td>Player, The (1992)</td>\n      <td>Comedy|Drama</td>\n      <td>False</td>\n    </tr>\n    <tr>\n      <th>777848</th>\n      <td>4186</td>\n      <td>2403</td>\n      <td>3</td>\n      <td>1017931262</td>\n      <td>M</td>\n      <td>25</td>\n      <td>7</td>\n      <td>33308</td>\n      <td>First Blood (1982)</td>\n      <td>Action</td>\n      <td>False</td>\n    </tr>\n  </tbody>\n</table>\n</div>"
     },
     "execution_count": 4,
     "metadata": {},
     "output_type": "execute_result"
    }
   ],
   "source": [
    "movielens_test.head()"
   ]
  },
  {
   "cell_type": "markdown",
   "metadata": {},
   "source": [
    "# Mini-Challenge prep: evaluation functions\n",
    "\n",
    "These are the two functions that you will need to test your `estimate` method."
   ]
  },
  {
   "cell_type": "code",
   "execution_count": 5,
   "metadata": {
    "collapsed": false
   },
   "outputs": [],
   "source": [
    "def compute_rmse(y_pred, y_true):\n",
    "    \"\"\" Compute Root Mean Squared Error. \"\"\"\n",
    "    \n",
    "    return np.sqrt(np.mean(np.power(y_pred - y_true, 2)))"
   ]
  },
  {
   "cell_type": "code",
   "execution_count": 6,
   "metadata": {
    "collapsed": false
   },
   "outputs": [],
   "source": [
    "def evaluate(estimate_f):\n",
    "    \"\"\" RMSE-based predictive performance evaluation with pandas. \"\"\"\n",
    "    \n",
    "    ids_to_estimate = zip(movielens_test.user_id, movielens_test.movie_id)\n",
    "    estimated = np.array([estimate_f(u,i) for (u,i) in ids_to_estimate])\n",
    "    real = movielens_test.rating.values\n",
    "    return compute_rmse(estimated, real)"
   ]
  },
  {
   "cell_type": "markdown",
   "metadata": {},
   "source": [
    "Test a dummy solution!"
   ]
  },
  {
   "cell_type": "code",
   "execution_count": 7,
   "metadata": {
    "collapsed": false
   },
   "outputs": [],
   "source": [
    "# This is a baseline that just gives an average rating to everything\n",
    "def my_estimate_func(user_id, movie_id):\n",
    "    return 3.0"
   ]
  },
  {
   "cell_type": "markdown",
   "metadata": {},
   "source": [
    "You can test for performance with the following line, which assumes that your function is called `my_estimate_func`:"
   ]
  },
  {
   "cell_type": "code",
   "execution_count": 10,
   "metadata": {
    "collapsed": false
   },
   "outputs": [
    {
     "name": "stdout",
     "output_type": "stream",
     "text": [
      "RMSE for my estimate function: 1.2323719526527521\n"
     ]
    }
   ],
   "source": [
    "print('RMSE for my estimate function: %s' % evaluate(my_estimate_func))"
   ]
  },
  {
   "cell_type": "markdown",
   "source": [
    "The above is the starting baseline. \n",
    "Want to improve from here.  \n",
    "0 error means the recommendation is perfect.\n",
    "4 (5-1) is the maximum amount it could be off."
   ],
   "metadata": {
    "collapsed": false,
    "pycharm": {
     "name": "#%% md\n"
    }
   }
  },
  {
   "cell_type": "markdown",
   "metadata": {},
   "source": [
    "# Reco systems questions: Minimal reco engine v1.0"
   ]
  },
  {
   "cell_type": "markdown",
   "metadata": {},
   "source": [
    "## 1. Simple collaborative filtering using mean ratings"
   ]
  },
  {
   "cell_type": "code",
   "execution_count": null,
   "metadata": {
    "collapsed": false
   },
   "outputs": [],
   "source": [
    "# write an 'estimate' function that computes the mean rating of a particular user\n",
    "def collab_mean(user_id, movie_id):\n",
    "    # first, index into all ratings of this movie\n",
    "    # second, compute the mean of those ratings\n",
    "    # \n",
    "    return\n",
    "\n",
    "    \n",
    "# try it out for a user_id, movie_id pair\n",
    "collab_mean(4653, 2648)"
   ]
  },
  {
   "cell_type": "markdown",
   "metadata": {},
   "source": [
    "# Mini-Challenge: first round\n",
    "Implement an `estimate` function of your own using other similarity notions, eg.:\n",
    "\n",
    "- collaborative filter based on age similarities\n",
    "- collaborative filter based on zip code similarities\n",
    "- collaborative filter based on occupation similarities\n",
    "- content filter based on movie genre"
   ]
  },
  {
   "cell_type": "markdown",
   "metadata": {},
   "source": [
    "# Mini-Challenge: second round\n",
    "Implement an `estimate` function of your own using other custom similarity notions, eg.:\n",
    "\n",
    "- euclidean\n",
    "- cosine"
   ]
  }
 ],
 "metadata": {
  "kernelspec": {
   "name": "pycharm-cef1f773",
   "language": "python",
   "display_name": "PyCharm (pycon2015_tutorial322)"
  },
  "language_info": {
   "codemirror_mode": {
    "name": "ipython",
    "version": 2
   },
   "file_extension": ".py",
   "mimetype": "text/x-python",
   "name": "python",
   "nbconvert_exporter": "python",
   "pygments_lexer": "ipython2",
   "version": "2.7.9"
  }
 },
 "nbformat": 4,
 "nbformat_minor": 0
}